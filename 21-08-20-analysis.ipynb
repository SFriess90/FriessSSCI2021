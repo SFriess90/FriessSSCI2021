{
 "cells": [
  {
   "cell_type": "code",
   "execution_count": 14,
   "metadata": {},
   "outputs": [],
   "source": [
    "import array\n",
    "import random\n",
    "import pickle\n",
    "import numpy as np\n",
    "import matplotlib.pyplot as plt\n"
   ]
  },
  {
   "cell_type": "code",
   "execution_count": 50,
   "metadata": {},
   "outputs": [],
   "source": [
    "p1 = pickle.load( open( \"experimental_data/experimental_data-predict-10-2-all-10-offset-1.out\", \"rb\" ) )\n",
    "p2 = pickle.load( open( \"experimental_data/experimental_data-predict-10-3-all-10-offset-1.out\", \"rb\" ) )"
   ]
  },
  {
   "cell_type": "code",
   "execution_count": 51,
   "metadata": {},
   "outputs": [],
   "source": [
    "p1_filtered = [[[gen[1] for gen in run] for run in exp] for exp in p1]\n",
    "p1_median = [np.median([exp[i] for exp in p1_filtered], axis=0) for i in range(0,4)]\n",
    "p1_mean = [np.mean([exp[i] for exp in p1_filtered], axis=0) for i in range(0,4)]"
   ]
  },
  {
   "cell_type": "code",
   "execution_count": 52,
   "metadata": {},
   "outputs": [],
   "source": [
    "p2_filtered = [[[gen[1] for gen in run] for run in exp] for exp in p2]\n",
    "p2_median = [np.median([exp[i] for exp in p2_filtered], axis=0) for i in range(0,4)]\n",
    "p2_mean = [np.mean([exp[i] for exp in p2_filtered], axis=0) for i in range(0,4)]"
   ]
  },
  {
   "cell_type": "code",
   "execution_count": 53,
   "metadata": {},
   "outputs": [],
   "source": [
    "pmlist = []\n",
    "\n",
    "for y in [p1,p2]:\n",
    "    pm1 = [[e[1] for e in x[0]] for x in y ]\n",
    "    pm2 = [[e[1] for e in x[1]] for x in y ]\n",
    "    pmlist.append(pm1), pmlist.append(pm2)"
   ]
  },
  {
   "cell_type": "code",
   "execution_count": 54,
   "metadata": {
    "scrolled": false
   },
   "outputs": [
    {
     "data": {
      "image/png": "[encoded data removed]",
      "text/plain": [
       "<Figure size 288x230.4 with 1 Axes>"
      ]
     },
     "metadata": {
      "needs_background": "light"
     },
     "output_type": "display_data"
    }
   ],
   "source": [
    "ylmt=[0.5,30]\n",
    "\n",
    "\n",
    "def_len = len(pmlist[0][0])\n",
    "x = np.array(range(1,1+def_len))\n",
    "\n",
    "plt.figure(figsize=(4,3.2))\n",
    "plt.ylim(ylmt[0],ylmt[1])\n",
    "plt.xlabel('Generation')\n",
    "plt.ylabel('Fitness Value')\n",
    "\n",
    "p_list = p1_median\n",
    "\n",
    "plt.xlim(1,10)\n",
    "plt.plot(x, p_list[3][:def_len], 'green', linestyle='dashed',linewidth=4)\n",
    "plt.plot(x, p_list[2][:def_len], 'blue', linestyle='dashed',linewidth=4)\n",
    "#plt.plot(x, p_list[1][:def_len], 'blue', linestyle='dotted',linewidth=2)\n",
    "plt.plot(x, p_list[0], 'red',linewidth=4)\n",
    "#plt.plot(x, np.median(pmlist[3],axis=0), 'blue', linestyle='dashed', linewidth=4)\n",
    "#plt.plot(x, np.median(pmlist[2],axis=0), 'red', linewidth=4)\n",
    "\n",
    "\n",
    "#plt.plot(x, np.array(pm).T, 'red', linestyle='dashed', alpha=0.1)\n",
    "#plt.plot(x, np.array(pm3).T, 'blue', linestyle='dashed', alpha=0.1)\n",
    "#plt.savefig(\"a7.pdf\")\n",
    "plt.show()"
   ]
  },
  {
   "cell_type": "code",
   "execution_count": 55,
   "metadata": {},
   "outputs": [
    {
     "data": {
      "text/plain": [
       "101.33937289655316"
      ]
     },
     "execution_count": 55,
     "metadata": {},
     "output_type": "execute_result"
    }
   ],
   "source": [
    "np.sum(p_list[2][:def_len])"
   ]
  },
  {
   "cell_type": "code",
   "execution_count": null,
   "metadata": {},
   "outputs": [],
   "source": []
  }
 ],
 "metadata": {
  "kernelspec": {
   "display_name": "Python 3 (ipykernel)",
   "language": "python",
   "name": "python3"
  },
  "language_info": {
   "codemirror_mode": {
    "name": "ipython",
    "version": 3
   },
   "file_extension": ".py",
   "mimetype": "text/x-python",
   "name": "python",
   "nbconvert_exporter": "python",
   "pygments_lexer": "ipython3",
   "version": "3.9.7"
  }
 },
 "nbformat": 4,
 "nbformat_minor": 2
}
