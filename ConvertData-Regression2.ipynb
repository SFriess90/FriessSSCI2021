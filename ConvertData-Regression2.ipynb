{
 "cells": [
  {
   "cell_type": "code",
   "execution_count": 17,
   "metadata": {},
   "outputs": [],
   "source": [
    "from sklearn.preprocessing import LabelBinarizer\n",
    "import keras, pickle, numpy as np\n",
    "from keras.models import Model\n",
    "from keras.layers import Conv2D, MaxPooling2D\n",
    "from keras.layers import Input, Activation, Concatenate, Dropout, Flatten, Dense\n",
    "\n",
    "import pickle\n",
    "import numpy as np"
   ]
  },
  {
   "cell_type": "markdown",
   "metadata": {},
   "source": [
    "## Conver Raw Data"
   ]
  },
  {
   "cell_type": "code",
   "execution_count": 4,
   "metadata": {},
   "outputs": [],
   "source": [
    "p = pickle.load( open( \"experimental_data/experimental_data2.out\", \"rb\" ) )\n",
    "p2 = pickle.load( open( \"experimental_data/experimental_data3.out\", \"rb\" ) )\n",
    "\n",
    "#fac = 120/10\n",
    "#shift = np.array([2.5,2.5,2.5]) \n",
    "\n",
    "fac = 12\n",
    "shift = np.array([2.5, 2.5, 2.5]) \n",
    "\n",
    "a, b, c = 0, 3, 2\n",
    "\n",
    "poplist_1 = [fac*np.array([[ind[0] for ind in e] for e in exp[1][a:b:c]]-shift)for exp in p[:]]\n",
    "fitlist_1 = [np.array([[ind[1] for ind in e] for e in exp[1][a:b:c]]) for exp in p[:]]\n",
    "\n",
    "poplist_2 = [fac*np.array([[ind[0] for ind in e] for e in exp[1][a:b:c]]-shift) for exp in p2[:]]\n",
    "fitlist_2 = [np.array([[ind[1] for ind in e] for e in exp[1][a:b:c]]) for exp in p2[:]]\n",
    "\n",
    "\n",
    "with open('experimental_data/experiment-populations.out', 'wb') as fp:\n",
    "    pickle.dump(poplist_1, fp)\n",
    "    \n",
    "with open('experimental_data/experiment-populations2.out', 'wb') as fp:\n",
    "    pickle.dump(poplist_2, fp)\n",
    "    \n",
    "with open('experimental_data/experiment-fitnesses.out', 'wb') as fp:\n",
    "    pickle.dump(fitlist_1, fp)\n",
    "    \n",
    "with open('experimental_data/experiment-fitnesses2.out', 'wb') as fp:\n",
    "    pickle.dump(fitlist_2, fp)"
   ]
  },
  {
   "cell_type": "markdown",
   "metadata": {},
   "source": [
    "## Load Histogram Data Format"
   ]
  },
  {
   "cell_type": "code",
   "execution_count": 18,
   "metadata": {},
   "outputs": [],
   "source": [
    "populations = pickle.load( open( \"histogram_data/histogram-experiment-populations.out\", \"rb\" ) )[:]\n",
    "populations2 = pickle.load( open( \"histogram_data/histogram-experiment-populations2.out\", \"rb\" ) )[:]"
   ]
  },
  {
   "cell_type": "code",
   "execution_count": 19,
   "metadata": {},
   "outputs": [],
   "source": [
    "def extractConfiguration(input_p):\n",
    "\n",
    "    params = []\n",
    "\n",
    "    for exp in input_p:    \n",
    "        popmins = exp[0]\n",
    "        pmins = [x[1] for x in popmins]\n",
    "        deltas = [pmins[i]-pmins[i+1] for i in range(0,len(pmins)-1)]\n",
    "        idx = np.argmax(deltas)\n",
    "        \n",
    "        mat = exp[2][idx]\n",
    "        triu = [mat[0][0],mat[1][1],mat[2][2]] + [mat[0][1],mat[1][2],mat[0][2]]\n",
    "        params.append([np.array(triu), np.array(exp[3][idx])])\n",
    "    \n",
    "    return params\n",
    "\n",
    "def constructCovariance(inputs):\n",
    "\n",
    "    ind, ino = inputs[:3], inputs[3:]    \n",
    "    diag = np.array([[ind[0],0,0],[0,ind[1],0],[0,0,ind[2]]])\n",
    "    offdiag = np.array([[0,ino[0],ino[2]],[0,0,ino[1]],[0,0,0]])\n",
    "    \n",
    "    return offdiag+offdiag.T+diag"
   ]
  },
  {
   "cell_type": "code",
   "execution_count": 64,
   "metadata": {},
   "outputs": [
    {
     "data": {
      "text/plain": [
       "(array([[ 1.16469163,  0.12900352, -0.20256557],\n",
       "        [ 0.12900352,  0.8570153 ,  0.04847534],\n",
       "        [-0.20256557,  0.04847534,  1.04413126]]),\n",
       " [[1.164691627328208, 0.1290035195123651, -0.202565574638533],\n",
       "  [0.12900351951236513, 0.857015300938707, 0.04847534291680289],\n",
       "  [-0.202565574638533, 0.04847534291680289, 1.04413125986332]])"
      ]
     },
     "execution_count": 64,
     "metadata": {},
     "output_type": "execute_result"
    }
   ],
   "source": [
    "c = p[0][2][0]\n",
    "ch = np.linalg.cholesky(c)\n",
    "np.dot(ch,ch.T), c"
   ]
  },
  {
   "cell_type": "code",
   "execution_count": 20,
   "metadata": {},
   "outputs": [],
   "source": [
    "labels1 = extractConfiguration(p)\n",
    "labels2 = extractConfiguration(p2)"
   ]
  },
  {
   "cell_type": "code",
   "execution_count": 21,
   "metadata": {},
   "outputs": [
    {
     "data": {
      "text/plain": [
       "[[0.4473324315700158, -0.015536822050462248, -0.29181548244299677],\n",
       " [-0.015536822050462237, 0.7262657980928822, 0.7171203517823396],\n",
       " [-0.29181548244299677, 0.7171203517823395, 1.6428633244233033]]"
      ]
     },
     "execution_count": 21,
     "metadata": {},
     "output_type": "execute_result"
    }
   ],
   "source": [
    "p[0][2][5]"
   ]
  },
  {
   "cell_type": "code",
   "execution_count": 22,
   "metadata": {},
   "outputs": [
    {
     "data": {
      "text/plain": [
       "[array([ 0.44733243,  0.7262658 ,  1.64286332, -0.01553682,  0.71712035,\n",
       "        -0.29181548]), array(1.61333797)]"
      ]
     },
     "execution_count": 22,
     "metadata": {},
     "output_type": "execute_result"
    }
   ],
   "source": [
    "labels1[0]"
   ]
  },
  {
   "cell_type": "code",
   "execution_count": 23,
   "metadata": {},
   "outputs": [],
   "source": [
    "from sklearn.preprocessing import LabelBinarizer\n",
    "\n",
    "X = []\n",
    "y = [[], []]\n",
    "\n",
    "for a,b,y1,y2 in zip(populations, populations2, labels1, labels2):\n",
    "\n",
    "    X.append(a[0]), X.append(b[0])\n",
    "    y[0].append(y1[0]), y[1].append(y1[1])\n",
    "    y[0].append(y2[0]), y[1].append(y2[1])\n",
    "    #y.append(0), y.append(1)\n",
    "\n",
    "X_train, Y_train = np.array(X), y\n",
    "#X_train, y_train = np.array(X[:3200]), np.array(y[:3200])\n",
    "#X_test, y_test = np.array(X[-800:]), np.array(y[-800:])\n"
   ]
  },
  {
   "cell_type": "code",
   "execution_count": 211,
   "metadata": {
    "scrolled": true
   },
   "outputs": [],
   "source": [
    "# Configuration options\n",
    "input_vector_length = 1*100\n",
    "\n",
    "accs = []\n",
    "#for i in range(0,1):\n",
    "# Create the model\n",
    "# 200, 10, 50, 4\n",
    "in_x = Input(shape=(input_vector_length,))\n",
    "x = Dense(10, activation='relu')(in_x)\n",
    "x = Dense(200, activation='relu')(x)\n",
    "out_diag = Dense(3, activation='exponential')(x)\n",
    "out_offdiag = Dense(3, activation='linear')(x)\n",
    "out_cov = Concatenate()([out_diag, out_offdiag])\n",
    "\n",
    "out_sigma = Dense(1, activation='relu')(x)\n",
    "\n",
    "model = Model(inputs=in_x, outputs=[out_cov, out_sigma])\n",
    "\n",
    "# Configure the model and start training\n",
    "model.compile(loss='mean_absolute_percentage_error', optimizer='adam', metrics=['mse'])\n",
    "\n",
    "h = model.fit(X_train, Y_train, epochs=1000, batch_size=250, verbose=0, validation_split=0.2)\n",
    "# inter_output_model = Model(model.input, model.layers[1].output )\n",
    "#h.history['val_acc'][-1]"
   ]
  },
  {
   "cell_type": "code",
   "execution_count": 212,
   "metadata": {},
   "outputs": [],
   "source": [
    "keys = list(h.history.keys())\n",
    "val1, val2 = h.history[keys[1]], h.history[keys[2]]\n",
    "acc1, acc2 = h.history[keys[3]], h.history[keys[4]]"
   ]
  },
  {
   "cell_type": "code",
   "execution_count": 222,
   "metadata": {
    "scrolled": true
   },
   "outputs": [
    {
     "data": {
      "image/png": "[encoded data removed]",
      "text/plain": [
       "<Figure size 432x288 with 1 Axes>"
      ]
     },
     "metadata": {
      "needs_background": "light"
     },
     "output_type": "display_data"
    },
    {
     "data": {
      "image/png": "[encoded data removed]",
      "text/plain": [
       "<Figure size 432x288 with 1 Axes>"
      ]
     },
     "metadata": {
      "needs_background": "light"
     },
     "output_type": "display_data"
    }
   ],
   "source": [
    "import matplotlib.pyplot as plt\n",
    "\n",
    "\n",
    "ylmt=[10**1,10**3]\n",
    "x = np.array(range(1,1+len(val1)))\n",
    "\n",
    "plt.figure()\n",
    "plt.ylim(ylmt[0],ylmt[1])\n",
    "plt.xlabel('Generation')\n",
    "plt.ylabel('Fitness Value')\n",
    "plt.semilogy(x, val1, 'red')\n",
    "#plt.plot(x, np.array(pm[:]).T, 'red', alpha=.25)\n",
    "plt.semilogy(x, val2, 'blue')\n",
    "#plt.plot(x, np.array(pm2[:]).T, 'lightblue', alpha=.25)\n",
    "#plt.plot(x, np.array(pm2[10:20]).T, 'green', alpha=1.)\n",
    "\n",
    "plt.show()\n",
    "\n",
    "\n",
    "ylmt=[10**-1,2*10**0]\n",
    "x = np.array(range(1,1+len(val1)))\n",
    "\n",
    "plt.figure()\n",
    "plt.ylim(ylmt[0],ylmt[1])\n",
    "plt.xlabel('Generation')\n",
    "plt.ylabel('Fitness Value')\n",
    "plt.plot(x, acc1, 'red')\n",
    "#plt.plot(x, np.array(pm[:]).T, 'red', alpha=.25)\n",
    "plt.plot(x, acc2, 'blue')\n",
    "#plt.plot(x, np.array(pm2[:]).T, 'lightblue', alpha=.25)\n",
    "#plt.plot(x, np.array(pm2[10:20]).T, 'green', alpha=1.)\n",
    "\n",
    "\n",
    "\n",
    "plt.show()"
   ]
  },
  {
   "cell_type": "code",
   "execution_count": 230,
   "metadata": {},
   "outputs": [
    {
     "data": {
      "text/plain": [
       "array([0.89826506, 0.9245373 , 1.2950895 , 0.01633981, 0.04137214,\n",
       "       0.08569376], dtype=float32)"
      ]
     },
     "execution_count": 230,
     "metadata": {},
     "output_type": "execute_result"
    }
   ],
   "source": [
    "X_test = np.array([p[0] for p in populations[80:]])\n",
    "pars = model.predict(X_test[:])\n",
    "np.mean(pars[0],axis=0)"
   ]
  },
  {
   "cell_type": "code",
   "execution_count": 225,
   "metadata": {
    "scrolled": true
   },
   "outputs": [
    {
     "data": {
      "text/plain": [
       "array([ 1.0530548 ,  1.0690125 ,  0.8755808 ,  0.28566927, -0.03072787,\n",
       "       -0.0228493 ], dtype=float32)"
      ]
     },
     "execution_count": 225,
     "metadata": {},
     "output_type": "execute_result"
    }
   ],
   "source": [
    "X_test = np.array([p[0] for p in populations2[80:]])\n",
    "pars = model.predict(X_test[:])\n",
    "np.mean(pars[0],axis=0)"
   ]
  },
  {
   "cell_type": "code",
   "execution_count": 15,
   "metadata": {},
   "outputs": [],
   "source": [
    "out_path_h = \"prediction-model.out\"\n",
    "\n",
    "#with open(out_path_h, 'wb') as fp:\n",
    "#    pickle.dump(model, fp)"
   ]
  },
  {
   "cell_type": "code",
   "execution_count": 16,
   "metadata": {},
   "outputs": [
    {
     "name": "stdout",
     "output_type": "stream",
     "text": [
      "WARNING:tensorflow:From C:\\Users\\stfri\\Anaconda3\\lib\\site-packages\\tensorflow\\python\\framework\\op_def_library.py:263: colocate_with (from tensorflow.python.framework.ops) is deprecated and will be removed in a future version.\n",
      "Instructions for updating:\n",
      "Colocations handled automatically by placer.\n",
      "WARNING:tensorflow:From C:\\Users\\stfri\\Anaconda3\\lib\\site-packages\\tensorflow\\python\\ops\\math_ops.py:3066: to_int32 (from tensorflow.python.ops.math_ops) is deprecated and will be removed in a future version.\n",
      "Instructions for updating:\n",
      "Use tf.cast instead.\n"
     ]
    }
   ],
   "source": [
    "model2 = pickle.load(open(out_path_h, \"rb\"))\n"
   ]
  },
  {
   "cell_type": "code",
   "execution_count": 41,
   "metadata": {},
   "outputs": [],
   "source": [
    "cov_out = model2.predict(X_train[:])\n",
    "covs = [constructCovariance(c) for c in cov_out[0]]"
   ]
  },
  {
   "cell_type": "code",
   "execution_count": 45,
   "metadata": {},
   "outputs": [],
   "source": [
    "def is_pos_def(x):\n",
    "    return np.all(np.linalg.eigvals(x) >= 0)"
   ]
  },
  {
   "cell_type": "code",
   "execution_count": 46,
   "metadata": {},
   "outputs": [
    {
     "name": "stdout",
     "output_type": "stream",
     "text": [
      "True\n",
      "True\n",
      "True\n",
      "True\n",
      "True\n",
      "True\n",
      "True\n",
      "True\n",
      "True\n",
      "True\n",
      "True\n",
      "True\n",
      "True\n",
      "True\n",
      "True\n",
      "True\n",
      "True\n",
      "True\n",
      "True\n",
      "True\n",
      "True\n",
      "True\n",
      "True\n",
      "True\n",
      "True\n",
      "True\n",
      "True\n",
      "True\n",
      "True\n",
      "True\n",
      "True\n",
      "True\n",
      "True\n",
      "True\n",
      "True\n",
      "True\n",
      "True\n",
      "True\n",
      "True\n",
      "True\n",
      "True\n",
      "True\n",
      "True\n",
      "True\n",
      "True\n",
      "True\n",
      "True\n",
      "True\n",
      "True\n",
      "True\n",
      "True\n",
      "True\n",
      "True\n",
      "True\n",
      "True\n",
      "True\n",
      "True\n",
      "True\n",
      "True\n",
      "True\n",
      "True\n",
      "True\n",
      "True\n",
      "True\n",
      "True\n",
      "True\n",
      "True\n",
      "True\n",
      "True\n",
      "True\n",
      "True\n",
      "True\n",
      "True\n",
      "True\n",
      "True\n",
      "True\n",
      "True\n",
      "True\n",
      "True\n",
      "True\n",
      "True\n",
      "True\n",
      "True\n",
      "True\n",
      "True\n",
      "True\n",
      "True\n",
      "True\n",
      "True\n",
      "True\n",
      "True\n",
      "True\n",
      "True\n",
      "True\n",
      "True\n",
      "True\n",
      "True\n",
      "True\n",
      "True\n",
      "True\n",
      "True\n",
      "True\n",
      "True\n",
      "True\n",
      "True\n",
      "True\n",
      "True\n",
      "True\n",
      "True\n",
      "True\n",
      "True\n",
      "True\n",
      "True\n",
      "True\n",
      "True\n",
      "True\n",
      "True\n",
      "True\n",
      "True\n",
      "True\n",
      "True\n",
      "True\n",
      "True\n",
      "True\n",
      "True\n",
      "True\n",
      "True\n",
      "True\n",
      "True\n",
      "True\n",
      "True\n",
      "True\n",
      "True\n",
      "True\n",
      "True\n",
      "True\n",
      "True\n",
      "True\n",
      "True\n",
      "True\n",
      "True\n",
      "True\n",
      "True\n",
      "True\n",
      "True\n",
      "True\n",
      "True\n",
      "True\n",
      "True\n",
      "True\n",
      "True\n",
      "True\n",
      "True\n",
      "True\n",
      "True\n",
      "True\n",
      "True\n",
      "True\n",
      "True\n",
      "True\n",
      "True\n",
      "True\n",
      "True\n",
      "True\n",
      "True\n",
      "True\n",
      "True\n",
      "True\n",
      "True\n",
      "True\n",
      "True\n",
      "True\n",
      "True\n",
      "True\n",
      "True\n",
      "True\n",
      "True\n",
      "True\n",
      "True\n",
      "True\n",
      "True\n",
      "True\n",
      "True\n",
      "True\n",
      "True\n",
      "True\n",
      "True\n",
      "True\n",
      "True\n",
      "True\n",
      "True\n",
      "True\n",
      "True\n",
      "True\n",
      "True\n",
      "True\n",
      "True\n",
      "True\n",
      "True\n",
      "True\n"
     ]
    }
   ],
   "source": [
    "for c in covs:\n",
    "    print(is_pos_def(c))"
   ]
  }
 ],
 "metadata": {
  "kernelspec": {
   "display_name": "Python 3 (ipykernel)",
   "language": "python",
   "name": "python3"
  },
  "language_info": {
   "codemirror_mode": {
    "name": "ipython",
    "version": 3
   },
   "file_extension": ".py",
   "mimetype": "text/x-python",
   "name": "python",
   "nbconvert_exporter": "python",
   "pygments_lexer": "ipython3",
   "version": "3.9.7"
  }
 },
 "nbformat": 4,
 "nbformat_minor": 2
}
