{
 "cells": [
  {
   "cell_type": "code",
   "execution_count": 54,
   "metadata": {},
   "outputs": [],
   "source": [
    "import array\n",
    "import random\n",
    "\n",
    "import numpy as np\n",
    "import matplotlib.pyplot as plt\n",
    "\n",
    "from deap import base, benchmarks\n",
    "from deap import creator\n",
    "from deap import tools\n",
    "\n",
    "#from deap import algorithm\n",
    "#from deap import cma\n",
    "\n",
    "import customalgorithm as algorithms\n",
    "import customcma as cma\n",
    "\n",
    "\n",
    "def runCMAES(objective, init, gen=10, config=[10, 10, 1.0], cmat=np.full((2,2),None)):\n",
    "\n",
    "    in_mu, in_lambda, in_sigma= config\n",
    "    \n",
    "    if (cmat==None).any():\n",
    "        cmat=np.identity(len(init))\n",
    "    \n",
    "    creator.create(\"FitnessMin\", base.Fitness, weights=(-1.0,))\n",
    "    creator.create(\"Individual\", list, fitness=creator.FitnessMin)\n",
    "    toolbox = base.Toolbox()\n",
    "    toolbox.register(\"evaluate\", objective)\n",
    "\n",
    "    strategy = cma.Strategy(centroid=init, sigma=in_sigma, lambda_=in_lambda,mu=in_mu, cmatrix=cmat)\n",
    "\n",
    "    toolbox.register(\"generate\", strategy.generate, creator.Individual)\n",
    "    toolbox.register(\"update\", strategy.update)\n",
    "\n",
    "    stats = tools.Statistics(lambda ind: [ind,ind.fitness.values[0]])\n",
    "    \n",
    "    def returnBestIndividual(inds):     \n",
    "        idx = np.argmin([x[1] for x in inds])\n",
    "        return inds[idx]\n",
    "    \n",
    "    def returnPopulation(inds):     \n",
    "        return [x[0] for x in inds]\n",
    "    \n",
    "    stats.register(\"returnBest\", returnBestIndividual)\n",
    "    stats.register(\"returnPop\", returnPopulation) \n",
    "\n",
    "    upd = algorithms.eaGenerateUpdate(toolbox, ngen=gen, stats=stats, verbose=False)\n",
    "    popfit = [upd[1][i]['returnBest'] for i in range(len(upd[1]))]\n",
    "    pops = [upd[1][i]['returnPop'] for i in range(len(upd[1]))]\n",
    "    #print(upd)\n",
    "    \n",
    "    return popfit, pops, upd[-3], upd[-2], upd[-1]"
   ]
  },
  {
   "cell_type": "code",
   "execution_count": 61,
   "metadata": {},
   "outputs": [],
   "source": [
    "g = 50\n",
    "dim = 10\n",
    "\n",
    "s = 600\n",
    "objective = benchmarks.griewank\n",
    "\n",
    "init = np.array([0]*(dim-1)+[s])\n",
    "#init = np.array([s]*dim)\n",
    "\n",
    "\n",
    "pm = []\n",
    "pm2 = []\n",
    "pm3 = []\n",
    "pm4 = []\n",
    "\n",
    "for i in range(0,100):\n",
    "    #init = np.random.uniform(-s, s,dim)\n",
    "    popmins, pops, covs, sigmas, _ = runCMAES(objective, init, gen=g, config=[10, 10, 1])\n",
    "\n",
    "    pmins = [p[1] for p in popmins]\n",
    "    deltas = [pmins[i]-pmins[i+1] for i in range(0,len(pmins)-1)]\n",
    "    idx = np.argmax(deltas)\n",
    "    #idx = -1\n",
    "    #print(idx), print(len(sigmas)), print(centroids[1])\n",
    "    \n",
    "    popmins2, _, _, _, _ = runCMAES(objective, init,gen=g, config=[10, 10, sigmas[idx]], cmat =covs[idx])\n",
    "    popmins3, _, _, _, _ = runCMAES(objective, init,gen=g, config=[10, 10, sigmas[-1]], cmat =covs[-1])    \n",
    "    popmins4, _, _, _, _ = runCMAES(objective, init,gen=g, config=[10, 10, np.median(sigmas)], cmat =np.median(covs,axis=0))\n",
    "    \n",
    "    \n",
    "    pm.append([p[1] for p in popmins])\n",
    "    pm2.append([p[1] for p in popmins2])\n",
    "    pm3.append([p[1] for p in popmins3])\n",
    "    pm4.append([p[1] for p in popmins4])"
   ]
  },
  {
   "cell_type": "code",
   "execution_count": 62,
   "metadata": {
    "scrolled": true
   },
   "outputs": [
    {
     "data": {
      "image/png": "[encoded data removed]",
      "text/plain": [
       "<Figure size 288x216 with 1 Axes>"
      ]
     },
     "metadata": {
      "needs_background": "light"
     },
     "output_type": "display_data"
    }
   ],
   "source": [
    "\n",
    "x = np.array(range(1,1+len(popmins)))\n",
    "\n",
    "#plt.figure(figsize=(6,4.5))\n",
    "plt.figure(figsize=(4,3))\n",
    "\n",
    "med1 = np.median(pm,axis=0)\n",
    "med2 = np.median(pm2,axis=0)\n",
    "med3 = np.median(pm3,axis=0)\n",
    "med4 = np.median(pm4,axis=0)\n",
    "\n",
    "ymin = 0.8*np.min(np.concatenate([med1,med2,med3,med4]))\n",
    "ymax = 1.2*np.max(np.concatenate([med1,med2,med3,med4]))\n",
    "\n",
    "\n",
    "plt.xlim(1,g)\n",
    "plt.ylim(ymin,ymax)\n",
    "plt.xlabel('Generation')\n",
    "plt.ylabel('Fitness Value', labelpad=0)\n",
    "plt.gcf().subplots_adjust(bottom=0.15)\n",
    "#plt.gcf().subplots_adjust(left=.14)\n",
    "plt.plot(x, med1, 'red',linewidth=4)\n",
    "plt.plot(x, med2, 'blue', linestyle='dashed',linewidth=4)\n",
    "plt.plot(x, med3, 'green', linestyle='dashed',linewidth=4)\n",
    "plt.plot(x, med4, 'purple', linestyle='dashed',linewidth=4)\n",
    "plt.savefig(\"g2.pdf\")\n",
    "plt.show()"
   ]
  }
 ],
 "metadata": {
  "kernelspec": {
   "display_name": "Python 3 (ipykernel)",
   "language": "python",
   "name": "python3"
  },
  "language_info": {
   "codemirror_mode": {
    "name": "ipython",
    "version": 3
   },
   "file_extension": ".py",
   "mimetype": "text/x-python",
   "name": "python",
   "nbconvert_exporter": "python",
   "pygments_lexer": "ipython3",
   "version": "3.9.7"
  }
 },
 "nbformat": 4,
 "nbformat_minor": 2
}
